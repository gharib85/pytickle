{
 "cells": [
  {
   "cell_type": "code",
   "execution_count": 1,
   "metadata": {
    "collapsed": true
   },
   "outputs": [],
   "source": [
    "import matlab.engine\n",
    "eng = matlab.engine.start_matlab()"
   ]
  },
  {
   "cell_type": "code",
   "execution_count": 2,
   "metadata": {
    "collapsed": true
   },
   "outputs": [],
   "source": [
    "import numpy as np\n",
    "import matplotlib.pyplot as plt\n",
    "import matplotlib as mpl\n",
    "%matplotlib inline"
   ]
  },
  {
   "cell_type": "code",
   "execution_count": 3,
   "metadata": {
    "collapsed": true
   },
   "outputs": [],
   "source": [
    "mpl.rc('figure', figsize=(12, 9))\n",
    "mpl.rcParams.update({'text.usetex': False,\n",
    "                     'font.family': 'serif',\n",
    "                     'font.serif': 'Georgia',\n",
    "                     'mathtext.fontset': 'cm',\n",
    "                     'lines.linewidth': 2,\n",
    "                     'font.size': 16,\n",
    "                     'legend.loc': 'best',\n",
    "                     'savefig.dpi': 80,\n",
    "                     'pdf.compression': 9})"
   ]
  },
  {
   "cell_type": "code",
   "execution_count": 4,
   "metadata": {
    "collapsed": true
   },
   "outputs": [],
   "source": [
    "import pytickle as pyt"
   ]
  },
  {
   "cell_type": "code",
   "execution_count": 5,
   "metadata": {
    "collapsed": false
   },
   "outputs": [],
   "source": [
    "reload(pyt);"
   ]
  },
  {
   "cell_type": "code",
   "execution_count": 6,
   "metadata": {
    "collapsed": true
   },
   "outputs": [],
   "source": [
    "pyt.addOpticklePath(eng)"
   ]
  },
  {
   "cell_type": "code",
   "execution_count": 7,
   "metadata": {
    "collapsed": false
   },
   "outputs": [],
   "source": [
    "Pin = 10\n",
    "Larm = 1e3\n",
    "\n",
    "opt = pyt.PyTickle(eng, 'opt')\n",
    "\n",
    "opt.addMirror('EM', Thr=0, Chr=1e-6)\n",
    "opt.addMirror('IM', Thr=0.01, Chr=1e-6)\n",
    "opt.addLink('IM', 'fr', 'EM', 'fr', Larm)\n",
    "opt.addLink('EM', 'fr', 'IM', 'fr', Larm)\n",
    "\n",
    "opt.addSource('Laser', np.sqrt(Pin))\n",
    "opt.addModulator('AM', 1)\n",
    "opt.addModulator('PM', 1j)\n",
    "opt.addLink('Laser', 'out', 'AM', 'in', 0)\n",
    "opt.addLink('AM', 'out', 'PM', 'in', 0)\n",
    "opt.addLink('PM', 'out', 'IM', 'bk', 0)\n",
    "\n",
    "opt.setCavityBasis('IM', 'EM')\n",
    "\n",
    "opt.addHomodyneReadout('REFL', 90, BnC=False)\n",
    "opt.addLink('IM', 'bk', 'REFL_BS', 'fr', 0)"
   ]
  },
  {
   "cell_type": "code",
   "execution_count": 8,
   "metadata": {
    "collapsed": false
   },
   "outputs": [],
   "source": [
    "ff = np.logspace(1, 4, 500)"
   ]
  },
  {
   "cell_type": "code",
   "execution_count": 9,
   "metadata": {
    "collapsed": true
   },
   "outputs": [],
   "source": [
    "opt.tickle(ff)"
   ]
  },
  {
   "cell_type": "code",
   "execution_count": 10,
   "metadata": {
    "collapsed": false
   },
   "outputs": [
    {
     "name": "stdout",
     "output_type": "stream",
     "text": [
      "Link                          |       DC|\n",
      "_________________________________________\n",
      "IM->fr --> EM<-fr             |   4.0 kW|\n",
      "EM->fr --> IM<-fr             |   4.0 kW|\n",
      "Laser->out --> AM<-in         |   10.0 W|\n",
      "AM->out --> PM<-in            |   10.0 W|\n",
      "PM->out --> IM<-bk            |   10.0 W|\n",
      "_________________________________________\n",
      "REFL_LO->out --> REFL_BS<-bk  |    1.0 W|\n",
      "REFL_BS->fr --> REFL_attnA<-in|    5.5 W|\n",
      "REFL_attnA->out --> REFL_A<-in|    5.5 W|\n",
      "REFL_BS->bk --> REFL_attnB<-in|    5.5 W|\n",
      "REFL_attnB->out --> REFL_B<-in|    5.5 W|\n",
      "_________________________________________\n",
      "IM->bk --> REFL_BS<-fr        |   10.0 W|\n"
     ]
    }
   ],
   "source": [
    "opt.showfDC()"
   ]
  },
  {
   "cell_type": "code",
   "execution_count": 11,
   "metadata": {
    "collapsed": false
   },
   "outputs": [
    {
     "name": "stdout",
     "output_type": "stream",
     "text": [
      "Probe    | Power     |\n",
      "______________________\n",
      "REFL_SUM |      5.5 W|\n",
      "REFL_DIFF|      5.5 W|\n"
     ]
    }
   ],
   "source": [
    "opt.showsigDC()"
   ]
  },
  {
   "cell_type": "code",
   "execution_count": 12,
   "metadata": {
    "collapsed": false
   },
   "outputs": [
    {
     "data": {
      "image/png": "[encoded data removed]",
      "text/plain": [
       "<matplotlib.figure.Figure at 0x7faedc09dbd0>"
      ]
     },
     "metadata": {},
     "output_type": "display_data"
    }
   ],
   "source": [
    "opt.plotTF('REFL_DIFF', 'EM.pos');"
   ]
  },
  {
   "cell_type": "code",
   "execution_count": 13,
   "metadata": {
    "collapsed": false
   },
   "outputs": [],
   "source": [
    "opt.tickle(ff, dof='yaw')\n",
    "opt.tickle(ff, dof='pitch')"
   ]
  },
  {
   "cell_type": "code",
   "execution_count": 14,
   "metadata": {
    "collapsed": false
   },
   "outputs": [],
   "source": [
    "tf = opt.getAngularTF('REFL_DIFF', 'EM.pos', 'pitch', 'IM', 'fr')"
   ]
  },
  {
   "cell_type": "code",
   "execution_count": 15,
   "metadata": {
    "collapsed": false
   },
   "outputs": [],
   "source": [
    "tf2 = opt.getAngularTF('REFL_DIFF', 'IM.pos', 'yaw', 'IM', 'fr')"
   ]
  },
  {
   "cell_type": "code",
   "execution_count": 16,
   "metadata": {
    "collapsed": true
   },
   "outputs": [],
   "source": [
    "tf3 = opt.getAngularTF('REFL_DIFF', 'EM.pos', 'pitch')"
   ]
  },
  {
   "cell_type": "code",
   "execution_count": 21,
   "metadata": {
    "collapsed": false
   },
   "outputs": [],
   "source": [
    "tf3 = opt.getAngularTF('REFL_DIFF', 'IM.pos', 'yaw', 'IM', 'fr')"
   ]
  },
  {
   "cell_type": "code",
   "execution_count": null,
   "metadata": {
    "collapsed": true
   },
   "outputs": [],
   "source": []
  }
 ],
 "metadata": {
  "kernelspec": {
   "display_name": "Python 2",
   "language": "python",
   "name": "python2"
  },
  "language_info": {
   "codemirror_mode": {
    "name": "ipython",
    "version": 2
   },
   "file_extension": ".py",
   "mimetype": "text/x-python",
   "name": "python",
   "nbconvert_exporter": "python",
   "pygments_lexer": "ipython2",
   "version": "2.7.6"
  }
 },
 "nbformat": 4,
 "nbformat_minor": 1
}
